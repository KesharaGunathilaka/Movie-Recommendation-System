{
 "cells": [
  {
   "cell_type": "markdown",
   "id": "1eb70800",
   "metadata": {},
   "source": [
    "# Movie Recommendation System"
   ]
  },
  {
   "cell_type": "markdown",
   "id": "e09181db",
   "metadata": {},
   "source": [
    "## Data EDA & Preprocessing"
   ]
  },
  {
   "cell_type": "markdown",
   "id": "670f20e8",
   "metadata": {},
   "source": [
    "### 1. Install Required Packages"
   ]
  },
  {
   "cell_type": "code",
   "execution_count": 11,
   "id": "d50b107a",
   "metadata": {},
   "outputs": [
    {
     "name": "stdout",
     "output_type": "stream",
     "text": [
      "Note: you may need to restart the kernel to use updated packages.\n"
     ]
    }
   ],
   "source": [
    "%pip install -q -r requirements.txt"
   ]
  },
  {
   "cell_type": "markdown",
   "id": "8ade7380",
   "metadata": {},
   "source": [
    "### 2. Import libraries"
   ]
  },
  {
   "cell_type": "code",
   "execution_count": 2,
   "id": "2875b6c0",
   "metadata": {},
   "outputs": [
    {
     "data": {
      "text/plain": [
       "True"
      ]
     },
     "execution_count": 2,
     "metadata": {},
     "output_type": "execute_result"
    }
   ],
   "source": [
    "import pandas as pd\n",
    "import matplotlib.pyplot as plt\n",
    "import seaborn as sns\n",
    "import groq\n",
    "from dotenv import load_dotenv\n",
    "from enum import Enum\n",
    "from pydantic import BaseModel\n",
    "from sklearn.feature_extraction.text import TfidfVectorizer\n",
    "from sklearn.metrics.pairwise import cosine_similarity\n",
    "\n",
    "load_dotenv()"
   ]
  },
  {
   "cell_type": "markdown",
   "id": "199c0c09",
   "metadata": {},
   "source": [
    "### 3. EDA"
   ]
  },
  {
   "cell_type": "code",
   "execution_count": 13,
   "id": "07d4a3a2",
   "metadata": {},
   "outputs": [
    {
     "data": {
      "text/html": [
       "<div>\n",
       "<style scoped>\n",
       "    .dataframe tbody tr th:only-of-type {\n",
       "        vertical-align: middle;\n",
       "    }\n",
       "\n",
       "    .dataframe tbody tr th {\n",
       "        vertical-align: top;\n",
       "    }\n",
       "\n",
       "    .dataframe thead th {\n",
       "        text-align: right;\n",
       "    }\n",
       "</style>\n",
       "<table border=\"1\" class=\"dataframe\">\n",
       "  <thead>\n",
       "    <tr style=\"text-align: right;\">\n",
       "      <th></th>\n",
       "      <th>Release Year</th>\n",
       "      <th>Title</th>\n",
       "      <th>Origin/Ethnicity</th>\n",
       "      <th>Director</th>\n",
       "      <th>Cast</th>\n",
       "      <th>Genre</th>\n",
       "      <th>Wiki Page</th>\n",
       "      <th>Plot</th>\n",
       "    </tr>\n",
       "  </thead>\n",
       "  <tbody>\n",
       "    <tr>\n",
       "      <th>0</th>\n",
       "      <td>1901</td>\n",
       "      <td>Kansas Saloon Smashers</td>\n",
       "      <td>American</td>\n",
       "      <td>Unknown</td>\n",
       "      <td>NaN</td>\n",
       "      <td>unknown</td>\n",
       "      <td>https://en.wikipedia.org/wiki/Kansas_Saloon_Sm...</td>\n",
       "      <td>A bartender is working at a saloon, serving dr...</td>\n",
       "    </tr>\n",
       "    <tr>\n",
       "      <th>1</th>\n",
       "      <td>1901</td>\n",
       "      <td>Love by the Light of the Moon</td>\n",
       "      <td>American</td>\n",
       "      <td>Unknown</td>\n",
       "      <td>NaN</td>\n",
       "      <td>unknown</td>\n",
       "      <td>https://en.wikipedia.org/wiki/Love_by_the_Ligh...</td>\n",
       "      <td>The moon, painted with a smiling face hangs ov...</td>\n",
       "    </tr>\n",
       "    <tr>\n",
       "      <th>2</th>\n",
       "      <td>1901</td>\n",
       "      <td>The Martyred Presidents</td>\n",
       "      <td>American</td>\n",
       "      <td>Unknown</td>\n",
       "      <td>NaN</td>\n",
       "      <td>unknown</td>\n",
       "      <td>https://en.wikipedia.org/wiki/The_Martyred_Pre...</td>\n",
       "      <td>The film, just over a minute long, is composed...</td>\n",
       "    </tr>\n",
       "    <tr>\n",
       "      <th>3</th>\n",
       "      <td>1901</td>\n",
       "      <td>Terrible Teddy, the Grizzly King</td>\n",
       "      <td>American</td>\n",
       "      <td>Unknown</td>\n",
       "      <td>NaN</td>\n",
       "      <td>unknown</td>\n",
       "      <td>https://en.wikipedia.org/wiki/Terrible_Teddy,_...</td>\n",
       "      <td>Lasting just 61 seconds and consisting of two ...</td>\n",
       "    </tr>\n",
       "    <tr>\n",
       "      <th>4</th>\n",
       "      <td>1902</td>\n",
       "      <td>Jack and the Beanstalk</td>\n",
       "      <td>American</td>\n",
       "      <td>George S. Fleming, Edwin S. Porter</td>\n",
       "      <td>NaN</td>\n",
       "      <td>unknown</td>\n",
       "      <td>https://en.wikipedia.org/wiki/Jack_and_the_Bea...</td>\n",
       "      <td>The earliest known adaptation of the classic f...</td>\n",
       "    </tr>\n",
       "  </tbody>\n",
       "</table>\n",
       "</div>"
      ],
      "text/plain": [
       "   Release Year                             Title Origin/Ethnicity  \\\n",
       "0          1901            Kansas Saloon Smashers         American   \n",
       "1          1901     Love by the Light of the Moon         American   \n",
       "2          1901           The Martyred Presidents         American   \n",
       "3          1901  Terrible Teddy, the Grizzly King         American   \n",
       "4          1902            Jack and the Beanstalk         American   \n",
       "\n",
       "                             Director Cast    Genre  \\\n",
       "0                             Unknown  NaN  unknown   \n",
       "1                             Unknown  NaN  unknown   \n",
       "2                             Unknown  NaN  unknown   \n",
       "3                             Unknown  NaN  unknown   \n",
       "4  George S. Fleming, Edwin S. Porter  NaN  unknown   \n",
       "\n",
       "                                           Wiki Page  \\\n",
       "0  https://en.wikipedia.org/wiki/Kansas_Saloon_Sm...   \n",
       "1  https://en.wikipedia.org/wiki/Love_by_the_Ligh...   \n",
       "2  https://en.wikipedia.org/wiki/The_Martyred_Pre...   \n",
       "3  https://en.wikipedia.org/wiki/Terrible_Teddy,_...   \n",
       "4  https://en.wikipedia.org/wiki/Jack_and_the_Bea...   \n",
       "\n",
       "                                                Plot  \n",
       "0  A bartender is working at a saloon, serving dr...  \n",
       "1  The moon, painted with a smiling face hangs ov...  \n",
       "2  The film, just over a minute long, is composed...  \n",
       "3  Lasting just 61 seconds and consisting of two ...  \n",
       "4  The earliest known adaptation of the classic f...  "
      ]
     },
     "execution_count": 13,
     "metadata": {},
     "output_type": "execute_result"
    }
   ],
   "source": [
    "df = pd.read_csv('data/raw/wiki_movie_plots_deduped.csv')\n",
    "df.head()"
   ]
  },
  {
   "cell_type": "code",
   "execution_count": 14,
   "id": "313b8648",
   "metadata": {},
   "outputs": [
    {
     "name": "stdout",
     "output_type": "stream",
     "text": [
      "Shape of dataset: (34886, 8)\n",
      "\n",
      "Column names:\n",
      " ['Release Year', 'Title', 'Origin/Ethnicity', 'Director', 'Cast', 'Genre', 'Wiki Page', 'Plot']\n",
      "<class 'pandas.core.frame.DataFrame'>\n",
      "RangeIndex: 34886 entries, 0 to 34885\n",
      "Data columns (total 8 columns):\n",
      " #   Column            Non-Null Count  Dtype \n",
      "---  ------            --------------  ----- \n",
      " 0   Release Year      34886 non-null  int64 \n",
      " 1   Title             34886 non-null  object\n",
      " 2   Origin/Ethnicity  34886 non-null  object\n",
      " 3   Director          34886 non-null  object\n",
      " 4   Cast              33464 non-null  object\n",
      " 5   Genre             34886 non-null  object\n",
      " 6   Wiki Page         34886 non-null  object\n",
      " 7   Plot              34886 non-null  object\n",
      "dtypes: int64(1), object(7)\n",
      "memory usage: 2.1+ MB\n"
     ]
    }
   ],
   "source": [
    "print(\"Shape of dataset:\", df.shape)\n",
    "print(\"\\nColumn names:\\n\", df.columns.tolist())\n",
    "df.info()"
   ]
  },
  {
   "cell_type": "code",
   "execution_count": 17,
   "id": "4be3ee1a",
   "metadata": {},
   "outputs": [
    {
     "name": "stdout",
     "output_type": "stream",
     "text": [
      "\n",
      "Missing values per column:\n",
      " Release Year           0\n",
      "Title                  0\n",
      "Origin/Ethnicity       0\n",
      "Director               0\n",
      "Cast                1422\n",
      "Genre                  0\n",
      "Wiki Page              0\n",
      "Plot                   0\n",
      "dtype: int64\n",
      "\n",
      "Number of duplicated rows: 0\n"
     ]
    }
   ],
   "source": [
    "print(\"\\nMissing values per column:\\n\", df.isnull().sum())\n",
    "print(\"\\nNumber of duplicated rows:\", df.duplicated().sum())"
   ]
  },
  {
   "cell_type": "markdown",
   "id": "8a8ea836",
   "metadata": {},
   "source": [
    "### 4. Data Preprocessing"
   ]
  },
  {
   "cell_type": "code",
   "execution_count": 22,
   "id": "ad538fd2",
   "metadata": {},
   "outputs": [],
   "source": [
    "df['Director'] = df['Director'].replace(\"Unknown\", pd.NA)\n",
    "df['Director'] = df['Director'].fillna(\"unknown_director\")\n",
    "df['Cast'] = df['Cast'].fillna(\"unknown_cast\")"
   ]
  },
  {
   "cell_type": "code",
   "execution_count": 3,
   "id": "10d1d22d",
   "metadata": {},
   "outputs": [],
   "source": [
    "class Genre(str, Enum):\n",
    "    ACTION = \"Action\"\n",
    "    COMEDY = \"Comedy\"\n",
    "    HORROR = \"Horror\"\n",
    "    THRILLER = \"Thriller\"\n",
    "    ANIMATION = \"Animation\"\n",
    "    ADVENTURE = \"Adventure\"\n",
    "    BIOGRAPHY = \"Biography\"\n",
    "    ROMANCE = \"Romance\"\n",
    "    DRAMA = \"Drama\"\n",
    "\n",
    "class GenrePrediction(BaseModel):\n",
    "    plot: str\n",
    "    pred_genre: Genre\n",
    "\n",
    "def predict_genre(\n",
    "        plot: str\n",
    "        ):\n",
    "\n",
    "    prompt = f\"\"\"\n",
    "                 What is the most likely genre (Action, Comedy, Drama, Horror, Thriller, Animation, Adventure, Biography, Romance, etc.) for the following plot: '{plot}' ?\n",
    "\n",
    "                 Your response only consist of one word: Action, Comedy, Drama, Horror, Thriller, Animation, Adventure, Biography, Romance, etc.\n",
    "                 \"\"\"\n",
    "    \n",
    "    response = groq.Groq().chat.completions.create(\n",
    "                                                   model=\"llama3-70b-8192\",\n",
    "                                                    messages=[{\n",
    "                                                        \"role\": \"user\", \n",
    "                                                        \"content\": prompt\n",
    "                                                        }]\n",
    "                                                    )\n",
    "\n",
    "    predict_genre = response.choices[0].message.content.strip()\n",
    "    return predict_genre"
   ]
  },
  {
   "cell_type": "code",
   "execution_count": null,
   "id": "585d6f34",
   "metadata": {},
   "outputs": [],
   "source": [
    "df['Genre'] = df['Genre'].replace(\"unknown\", pd.NA)\n",
    "missing_genre_index = df['Genre'].isnull()\n",
    "for idx in df[missing_genre_index].index:\n",
    "    plot = df.loc[idx, 'Plot']\n",
    "    genre = predict_genre(plot)\n",
    "    if genre:\n",
    "        df.loc[idx, 'Genre'] = genre\n",
    "        print(f\"{plot} : {genre}\")\n",
    "    else:\n",
    "        print(f\"{plot} : No Genre Detected\")"
   ]
  },
  {
   "cell_type": "code",
   "execution_count": 20,
   "id": "22a2e80d",
   "metadata": {},
   "outputs": [
    {
     "name": "stdout",
     "output_type": "stream",
     "text": [
      "\n",
      "Movies per binned year group:\n",
      "\n",
      "Year Binned\n",
      "1900s      309\n",
      "1920s     2981\n",
      "1940s     6333\n",
      "1960s     5016\n",
      "1980s     7687\n",
      "2000s    12560\n",
      "Name: count, dtype: int64\n"
     ]
    },
    {
     "data": {
      "image/png": "[encoded data removed]",
      "text/plain": [
       "<Figure size 1200x600 with 1 Axes>"
      ]
     },
     "metadata": {},
     "output_type": "display_data"
    }
   ],
   "source": [
    "bins = list(range(1900, 2021, 20)) \n",
    "labels = [f\"{b}s\" for b in bins[:-1]]  \n",
    "\n",
    "df['Year Binned'] = pd.cut(df['Release Year'], bins=bins, labels=labels, right=False)\n",
    "\n",
    "print(\"\\nMovies per binned year group:\\n\")\n",
    "print(df['Year Binned'].value_counts().sort_index())\n",
    "\n",
    "plt.figure(figsize=(12, 6))\n",
    "sns.countplot(data=df, x='Year Binned', order=labels)\n",
    "plt.title(\"Number of Movies by Year Bin\")\n",
    "plt.xticks(rotation=45)\n",
    "plt.tight_layout()\n",
    "plt.show()"
   ]
  },
  {
   "cell_type": "code",
   "execution_count": null,
   "id": "dc1a0780",
   "metadata": {},
   "outputs": [
    {
     "data": {
      "text/html": [
       "<div>\n",
       "<style scoped>\n",
       "    .dataframe tbody tr th:only-of-type {\n",
       "        vertical-align: middle;\n",
       "    }\n",
       "\n",
       "    .dataframe tbody tr th {\n",
       "        vertical-align: top;\n",
       "    }\n",
       "\n",
       "    .dataframe thead th {\n",
       "        text-align: right;\n",
       "    }\n",
       "</style>\n",
       "<table border=\"1\" class=\"dataframe\">\n",
       "  <thead>\n",
       "    <tr style=\"text-align: right;\">\n",
       "      <th></th>\n",
       "      <th>Title</th>\n",
       "      <th>Origin/Ethnicity</th>\n",
       "      <th>Director</th>\n",
       "      <th>Cast</th>\n",
       "      <th>Genre</th>\n",
       "      <th>Year Binned</th>\n",
       "    </tr>\n",
       "  </thead>\n",
       "  <tbody>\n",
       "    <tr>\n",
       "      <th>0</th>\n",
       "      <td>Kansas Saloon Smashers</td>\n",
       "      <td>American</td>\n",
       "      <td>Unknown</td>\n",
       "      <td>NaN</td>\n",
       "      <td>Comedy</td>\n",
       "      <td>1900s</td>\n",
       "    </tr>\n",
       "    <tr>\n",
       "      <th>1</th>\n",
       "      <td>Love by the Light of the Moon</td>\n",
       "      <td>American</td>\n",
       "      <td>Unknown</td>\n",
       "      <td>NaN</td>\n",
       "      <td>Romance</td>\n",
       "      <td>1900s</td>\n",
       "    </tr>\n",
       "    <tr>\n",
       "      <th>2</th>\n",
       "      <td>The Martyred Presidents</td>\n",
       "      <td>American</td>\n",
       "      <td>Unknown</td>\n",
       "      <td>NaN</td>\n",
       "      <td>Thriller</td>\n",
       "      <td>1900s</td>\n",
       "    </tr>\n",
       "    <tr>\n",
       "      <th>3</th>\n",
       "      <td>Terrible Teddy, the Grizzly King</td>\n",
       "      <td>American</td>\n",
       "      <td>Unknown</td>\n",
       "      <td>NaN</td>\n",
       "      <td>Comedy.</td>\n",
       "      <td>1900s</td>\n",
       "    </tr>\n",
       "    <tr>\n",
       "      <th>4</th>\n",
       "      <td>Jack and the Beanstalk</td>\n",
       "      <td>American</td>\n",
       "      <td>George S. Fleming, Edwin S. Porter</td>\n",
       "      <td>NaN</td>\n",
       "      <td>Fantasy/Adventure</td>\n",
       "      <td>1900s</td>\n",
       "    </tr>\n",
       "  </tbody>\n",
       "</table>\n",
       "</div>"
      ],
      "text/plain": [
       "                              Title Origin/Ethnicity  \\\n",
       "0            Kansas Saloon Smashers         American   \n",
       "1     Love by the Light of the Moon         American   \n",
       "2           The Martyred Presidents         American   \n",
       "3  Terrible Teddy, the Grizzly King         American   \n",
       "4            Jack and the Beanstalk         American   \n",
       "\n",
       "                             Director Cast              Genre Year Binned  \n",
       "0                             Unknown  NaN             Comedy       1900s  \n",
       "1                             Unknown  NaN            Romance       1900s  \n",
       "2                             Unknown  NaN           Thriller       1900s  \n",
       "3                             Unknown  NaN            Comedy.       1900s  \n",
       "4  George S. Fleming, Edwin S. Porter  NaN  Fantasy/Adventure       1900s  "
      ]
     },
     "execution_count": 25,
     "metadata": {},
     "output_type": "execute_result"
    }
   ],
   "source": [
    "df = df.drop(columns=[\n",
    "                        'Wiki Page', 'Release Year', 'Plot'\n",
    "                        ])\n",
    "df.head()"
   ]
  },
  {
   "cell_type": "code",
   "execution_count": 27,
   "id": "26093486",
   "metadata": {},
   "outputs": [],
   "source": [
    "df.to_csv('data/processed/Movies_Preprocessed.csv', index=False)"
   ]
  },
  {
   "cell_type": "markdown",
   "id": "da7b1f37",
   "metadata": {},
   "source": [
    "### 5. Feature Engineering"
   ]
  },
  {
   "cell_type": "code",
   "execution_count": 29,
   "id": "b463ef5b",
   "metadata": {},
   "outputs": [
    {
     "data": {
      "text/html": [
       "<div>\n",
       "<style scoped>\n",
       "    .dataframe tbody tr th:only-of-type {\n",
       "        vertical-align: middle;\n",
       "    }\n",
       "\n",
       "    .dataframe tbody tr th {\n",
       "        vertical-align: top;\n",
       "    }\n",
       "\n",
       "    .dataframe thead th {\n",
       "        text-align: right;\n",
       "    }\n",
       "</style>\n",
       "<table border=\"1\" class=\"dataframe\">\n",
       "  <thead>\n",
       "    <tr style=\"text-align: right;\">\n",
       "      <th></th>\n",
       "      <th>Title</th>\n",
       "      <th>Origin/Ethnicity</th>\n",
       "      <th>Director</th>\n",
       "      <th>Cast</th>\n",
       "      <th>Genre</th>\n",
       "      <th>Year Binned</th>\n",
       "    </tr>\n",
       "  </thead>\n",
       "  <tbody>\n",
       "    <tr>\n",
       "      <th>0</th>\n",
       "      <td>Kansas Saloon Smashers</td>\n",
       "      <td>American</td>\n",
       "      <td>Unknown</td>\n",
       "      <td>NaN</td>\n",
       "      <td>Comedy</td>\n",
       "      <td>1900s</td>\n",
       "    </tr>\n",
       "    <tr>\n",
       "      <th>1</th>\n",
       "      <td>Love by the Light of the Moon</td>\n",
       "      <td>American</td>\n",
       "      <td>Unknown</td>\n",
       "      <td>NaN</td>\n",
       "      <td>Romance</td>\n",
       "      <td>1900s</td>\n",
       "    </tr>\n",
       "    <tr>\n",
       "      <th>2</th>\n",
       "      <td>The Martyred Presidents</td>\n",
       "      <td>American</td>\n",
       "      <td>Unknown</td>\n",
       "      <td>NaN</td>\n",
       "      <td>Thriller</td>\n",
       "      <td>1900s</td>\n",
       "    </tr>\n",
       "    <tr>\n",
       "      <th>3</th>\n",
       "      <td>Terrible Teddy, the Grizzly King</td>\n",
       "      <td>American</td>\n",
       "      <td>Unknown</td>\n",
       "      <td>NaN</td>\n",
       "      <td>Comedy.</td>\n",
       "      <td>1900s</td>\n",
       "    </tr>\n",
       "    <tr>\n",
       "      <th>4</th>\n",
       "      <td>Jack and the Beanstalk</td>\n",
       "      <td>American</td>\n",
       "      <td>George S. Fleming, Edwin S. Porter</td>\n",
       "      <td>NaN</td>\n",
       "      <td>Fantasy/Adventure</td>\n",
       "      <td>1900s</td>\n",
       "    </tr>\n",
       "  </tbody>\n",
       "</table>\n",
       "</div>"
      ],
      "text/plain": [
       "                              Title Origin/Ethnicity  \\\n",
       "0            Kansas Saloon Smashers         American   \n",
       "1     Love by the Light of the Moon         American   \n",
       "2           The Martyred Presidents         American   \n",
       "3  Terrible Teddy, the Grizzly King         American   \n",
       "4            Jack and the Beanstalk         American   \n",
       "\n",
       "                             Director Cast              Genre Year Binned  \n",
       "0                             Unknown  NaN             Comedy       1900s  \n",
       "1                             Unknown  NaN            Romance       1900s  \n",
       "2                             Unknown  NaN           Thriller       1900s  \n",
       "3                             Unknown  NaN            Comedy.       1900s  \n",
       "4  George S. Fleming, Edwin S. Porter  NaN  Fantasy/Adventure       1900s  "
      ]
     },
     "execution_count": 29,
     "metadata": {},
     "output_type": "execute_result"
    }
   ],
   "source": [
    "df = pd.read_csv(\"data/processed/Movies_Preprocessed.csv\")\n",
    "\n",
    "df.head(5)"
   ]
  },
  {
   "cell_type": "code",
   "execution_count": 5,
   "id": "5908bc2e",
   "metadata": {},
   "outputs": [],
   "source": [
    "def clean_text(x):\n",
    "    return str(x).replace(\" \", \"\").lower()\n",
    "\n",
    "df[\"combined_features\"] = (\n",
    "    df[\"Origin/Ethnicity\"].apply(clean_text) + \" \" +\n",
    "    df[\"Director\"].apply(clean_text) + \" \" +\n",
    "    df[\"Cast\"].apply(clean_text) + \" \" +\n",
    "    df[\"Year Binned\"].apply(clean_text) + \" \" +\n",
    "    df[\"Genre\"].apply(clean_text)\n",
    ")"
   ]
  },
  {
   "cell_type": "markdown",
   "id": "117b3bf8",
   "metadata": {},
   "source": [
    "### 6. Vectorization"
   ]
  },
  {
   "cell_type": "code",
   "execution_count": 6,
   "id": "e2f58e7f",
   "metadata": {},
   "outputs": [
    {
     "name": "stdout",
     "output_type": "stream",
     "text": [
      "TF-IDF matrix shape: (34886, 41076)\n"
     ]
    }
   ],
   "source": [
    "tfidf = TfidfVectorizer(stop_words=\"english\")\n",
    "\n",
    "tfidf_matrix = tfidf.fit_transform(df[\"combined_features\"])\n",
    "\n",
    "print(\"TF-IDF matrix shape:\", tfidf_matrix.shape)"
   ]
  },
  {
   "cell_type": "code",
   "execution_count": 7,
   "id": "0be329c5",
   "metadata": {},
   "outputs": [
    {
     "name": "stdout",
     "output_type": "stream",
     "text": [
      "Cosine similarity matrix shape: (34886, 34886)\n"
     ]
    }
   ],
   "source": [
    "cosine_sim = cosine_similarity(tfidf_matrix, tfidf_matrix)\n",
    "\n",
    "print(\"Cosine similarity matrix shape:\", cosine_sim.shape)"
   ]
  },
  {
   "cell_type": "markdown",
   "id": "ecf543d0",
   "metadata": {},
   "source": [
    "### 7. Recommendation Function"
   ]
  },
  {
   "cell_type": "code",
   "execution_count": 36,
   "id": "c4e45e85",
   "metadata": {},
   "outputs": [],
   "source": [
    "df = df.reset_index()\n",
    "df[\"Title_Clean\"] = df[\"Title\"].str.lower().str.strip()\n",
    "\n",
    "indices = pd.Series(df.index, index=df[\"Title_Clean\"])\n",
    "\n",
    "def recommend_movies(title, n=10):\n",
    "    #title = title.lower()\n",
    "    title = title.lower().strip()\n",
    "    if title not in indices:\n",
    "        return [\"Movie not found in dataset.\"]\n",
    "    \n",
    "    idx = indices[title]\n",
    "\n",
    "    if isinstance(idx, pd.Series):\n",
    "        idx = idx.iloc[0]\n",
    "        \n",
    "    sim_scores = list(enumerate(cosine_sim[idx]))\n",
    "    sim_scores = sorted(sim_scores, key=lambda x: x[1], reverse=True)\n",
    "    sim_scores = sim_scores[1:n+1]   # exclude first (itself)\n",
    "    movie_indices = [i[0] for i in sim_scores]\n",
    "    return df[\"Title\"].iloc[movie_indices].tolist()\n"
   ]
  },
  {
   "cell_type": "code",
   "execution_count": 37,
   "id": "7121277b",
   "metadata": {},
   "outputs": [
    {
     "name": "stdout",
     "output_type": "stream",
     "text": [
      "['The Dark Knight', 'Batman Begins', 'Dark Knight Rises, TheThe Dark Knight Rises', 'The Dark Knight Rises', 'The Prestige']\n"
     ]
    }
   ],
   "source": [
    "print(recommend_movies(\"the dark knight\", 5))"
   ]
  }
 ],
 "metadata": {
  "kernelspec": {
   "display_name": "base",
   "language": "python",
   "name": "python3"
  },
  "language_info": {
   "codemirror_mode": {
    "name": "ipython",
    "version": 3
   },
   "file_extension": ".py",
   "mimetype": "text/x-python",
   "name": "python",
   "nbconvert_exporter": "python",
   "pygments_lexer": "ipython3",
   "version": "3.12.7"
  }
 },
 "nbformat": 4,
 "nbformat_minor": 5
}
